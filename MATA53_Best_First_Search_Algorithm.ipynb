{
  "nbformat": 4,
  "nbformat_minor": 0,
  "metadata": {
    "colab": {
      "name": "MATA53 - Best First Search Algorithm",
      "provenance": [],
      "authorship_tag": "ABX9TyNsXOKDCeB+qJZEcmtd7igJ",
      "include_colab_link": true
    },
    "kernelspec": {
      "name": "python3",
      "display_name": "Python 3"
    },
    "language_info": {
      "name": "python"
    }
  },
  "cells": [
    {
      "cell_type": "markdown",
      "metadata": {
        "id": "view-in-github",
        "colab_type": "text"
      },
      "source": [
        "<a href=\"https://colab.research.google.com/github/lailamt/MATA53-best-first-search/blob/main/MATA53_Best_First_Search_Algorithm.ipynb\" target=\"_parent\"><img src=\"https://colab.research.google.com/assets/colab-badge.svg\" alt=\"Open In Colab\"/></a>"
      ]
    },
    {
      "cell_type": "markdown",
      "metadata": {
        "id": "63XBDv1F_lkp"
      },
      "source": [
        "\n",
        "\n",
        "# Obsoleto\n",
        "\n",
        "\n",
        "\n",
        "\n"
      ]
    },
    {
      "cell_type": "code",
      "metadata": {
        "id": "qkCAo6Cj6uLg"
      },
      "source": [
        "# recebe dois valores como parâmetro\n",
        "# start = vértice_saída\n",
        "# end = vértice_chegada\n",
        "def best_first_search(start, end):\n",
        "  visitado = []\n",
        "  visitar = []\n",
        "  total_custo = 0\n",
        "\n",
        "  visitado.append(start)\n",
        "\n",
        "  for x in grafo[start]:\n",
        "    visitar.append(x)\n",
        "  \n",
        "  Sort_Tuple(visitar)\n",
        "  visitado.append(visitar[0][0])\n",
        "\n",
        "  while visitar[0][0] != end:\n",
        "    total_custo += visitar[0][1]\n",
        "    for x in grafo[visitar[0][0]]:\n",
        "      visitar.append(x)\n",
        "    visitar.pop(0)\n",
        "    Sort_Tuple(visitar)\n",
        "    visitado.append(visitar[0][0])\n",
        "\n",
        "  total_custo+=visitar[0][1] \n",
        "  visitado.append(total_custo)\n",
        "  return visitado"
      ],
      "execution_count": 9,
      "outputs": []
    },
    {
      "cell_type": "code",
      "metadata": {
        "id": "vomjGoGz6wSV"
      },
      "source": [
        "# recebe uma tupla como parâmetro\n",
        "# caminho = (vértice_saída, vértice_chegada)\n",
        "def best_first_search2(caminho):\n",
        "  visitado = []\n",
        "  visitar = []\n",
        "  total_custo = 0\n",
        "\n",
        "  visitar.append((caminho[0],total_custo))\n",
        "  #print(visitar)\n",
        "  \n",
        "  if visitar[0][0] == caminho[1]:\n",
        "    #visitado.append(visitar[0][0])\n",
        "    visitado.append(total_custo)\n",
        "    print(\"O vértice de saída é igual ao vértice de entrada.\")\n",
        "  else:\n",
        "    while visitar[0][0] != caminho[1]:\n",
        "      visitado.append(visitar[0][0])\n",
        "      total_custo += visitar[0][1]\n",
        "      #if grafo[visitar[0][0]]:\n",
        "      #print(grafo[visitar[0][0]])\n",
        "      for x in grafo[visitar[0][0]]:\n",
        "        visitar.append(x)\n",
        "      visitar.pop(0)\n",
        "      Sort_Tuple(visitar)\n",
        "\n",
        "    visitado.append(visitar[0][0])\n",
        "    total_custo+=visitar[0][1] \n",
        "    visitado.append(total_custo)\n",
        "\n",
        "  return visitado"
      ],
      "execution_count": 10,
      "outputs": []
    },
    {
      "cell_type": "code",
      "metadata": {
        "id": "CklqL6DD6pzG"
      },
      "source": [
        ""
      ],
      "execution_count": 10,
      "outputs": []
    },
    {
      "cell_type": "markdown",
      "metadata": {
        "id": "MyC8Lns46T46"
      },
      "source": [
        "# Código certo!\n",
        "\n",
        "\n",
        "```\n",
        "# Implementação da função BFS\n",
        "```"
      ]
    },
    {
      "cell_type": "code",
      "metadata": {
        "id": "tBChZRtX1fue"
      },
      "source": [
        "import networkx as nx\n",
        "import matplotlib.pyplot as plt"
      ],
      "execution_count": 1,
      "outputs": []
    },
    {
      "cell_type": "markdown",
      "metadata": {
        "id": "L2aD7a_6AQfY"
      },
      "source": [
        "Funções de desenho do grafo"
      ]
    },
    {
      "cell_type": "code",
      "metadata": {
        "id": "Ez9X_Xit2LBh"
      },
      "source": [
        "def calc_path_edges():\n",
        "  path_edges=[]\n",
        "  for x in range(len(caminho_do_grafo)):\n",
        "    for y in range(len(edges)):\n",
        "      if ((caminho_do_grafo[x] == edges[y][1]) and (edges[y][0] in caminho_do_grafo)):\n",
        "        path_edges.append(edges[y])\n",
        "  return path_edges"
      ],
      "execution_count": 2,
      "outputs": []
    },
    {
      "cell_type": "code",
      "metadata": {
        "id": "X4STGgxG0bRI"
      },
      "source": [
        "def draw_graph():\n",
        "  pos = nx.spring_layout(G)\n",
        "\n",
        "  path_edges = calc_path_edges()\n",
        "\n",
        "  # Draw nodes and edges not included in path\n",
        "  nx.draw_networkx_nodes(G, pos, nodelist=set(G.nodes)-set(caminho_do_grafo))\n",
        "  nx.draw_networkx_edges(G, pos, edgelist=set(G.edges)-set(path_edges), connectionstyle='arc3, rad = 0.3')\n",
        "  # Draw nodes and edges included in path\n",
        "  nx.draw_networkx_nodes(G, pos, nodelist=caminho_do_grafo, node_color='r')\n",
        "  nx.draw_networkx_edges(G, pos, edgelist=path_edges, edge_color='r', connectionstyle='arc3, rad = 0.3')\n",
        "\n",
        "  # Draw labels\n",
        "  nx.draw_networkx_labels(G,pos)\n",
        "\n",
        "  #plt.savefig(\"simple_path.png\") # save as png\n",
        "  plt.show() # display"
      ],
      "execution_count": 3,
      "outputs": []
    },
    {
      "cell_type": "markdown",
      "metadata": {
        "id": "Nd_KASGV7pbu"
      },
      "source": [
        "Função que adiciona os vértices ao grafo"
      ]
    },
    {
      "cell_type": "code",
      "metadata": {
        "id": "t_y3WHkf6ac3"
      },
      "source": [
        "# addedge vincula um vértice ao outro e guarda o valor de custo\n",
        "def addedge(x, y, cost):\n",
        "  grafo[x].append((y, cost))\n",
        "\n",
        "  G.add_nodes_from([x,y])\n",
        "  G.add_edge(x,y)\n",
        "  \n",
        "  edges.append((x,y))\n",
        "# deve inserir os dados de (v_partida,v_chegada,custo_caminho)"
      ],
      "execution_count": 4,
      "outputs": []
    },
    {
      "cell_type": "markdown",
      "metadata": {
        "id": "tdpKkEkg6ohT"
      },
      "source": [
        "Função de ordenação da Lista de Tuplas"
      ]
    },
    {
      "cell_type": "code",
      "metadata": {
        "id": "1R3NjQbB6pYt"
      },
      "source": [
        "# Ordena de acordo com o valor de custo da Tupla (y,custo)\n",
        "def Sort_Tuple(tup): \n",
        "      \n",
        "    # pega o tamanho da lista de tuplas\n",
        "    lst = len(tup) \n",
        "    for i in range(0, lst): \n",
        "          \n",
        "        for j in range(0, lst-i-1): \n",
        "            if (tup[j][1] > tup[j + 1][1]): \n",
        "                temp = tup[j] \n",
        "                tup[j]= tup[j + 1] \n",
        "                tup[j + 1]= temp \n",
        "    return tup "
      ],
      "execution_count": 5,
      "outputs": []
    },
    {
      "cell_type": "markdown",
      "metadata": {
        "id": "_Pz6gFS96r2L"
      },
      "source": [
        "Best First Search "
      ]
    },
    {
      "cell_type": "code",
      "metadata": {
        "id": "hJ1yDiQyAbXl"
      },
      "source": [
        "def best_fs(caminho):\n",
        "  visitado = []\n",
        "  visitar = []\n",
        "  total_custo = 0\n",
        "\n",
        "  visitar.append((caminho[0],total_custo))\n",
        "\n",
        "  if visitar[0][0] == caminho[1]:\n",
        "    visitado.append(visitar[0][0])\n",
        "    visitado.append(total_custo)\n",
        "  else:\n",
        "    while visitar[0][0] != caminho[1]:\n",
        "      visitado.append(visitar[0][0])\n",
        "      total_custo += visitar[0][1]\n",
        "      for x in grafo[visitar[0][0]]:\n",
        "        visitar.append(x)\n",
        "      visitar.pop(0)\n",
        "      Sort_Tuple(visitar)\n",
        "    visitado.append(visitar[0][0])\n",
        "    total_custo+=visitar[0][1] \n",
        "    visitado.append(total_custo)\n",
        "\n",
        "  return visitado"
      ],
      "execution_count": 15,
      "outputs": []
    },
    {
      "cell_type": "markdown",
      "metadata": {
        "id": "5uApcndY__Ft"
      },
      "source": [
        "# Testes"
      ]
    },
    {
      "cell_type": "markdown",
      "metadata": {
        "id": "Z3mKPc7U6zjo"
      },
      "source": [
        "Teste 1\n",
        "\n",
        "```\n",
        "Saída esperada: \n",
        "Caminho = [0, 1, 3, 2, 8, 9]\n",
        "Custo = 26\n",
        "```"
      ]
    },
    {
      "cell_type": "markdown",
      "metadata": {
        "id": "IRFM3bxI8CPQ"
      },
      "source": [
        "Inicialização"
      ]
    },
    {
      "cell_type": "code",
      "metadata": {
        "id": "yM9CZ_Vj7-ph"
      },
      "source": [
        "# v é a quantidade de vértices em G\n",
        "v = 14\n",
        "# grafo é uma lista de listas de tamanho v\n",
        "grafo = [[] for i in range(v)]\n",
        "\n",
        "G=nx.Graph()\n",
        "edges = []"
      ],
      "execution_count": 30,
      "outputs": []
    },
    {
      "cell_type": "markdown",
      "metadata": {
        "id": "lnbZz4006gqV"
      },
      "source": [
        "Cria o grafo adicionando os vértices"
      ]
    },
    {
      "cell_type": "code",
      "metadata": {
        "id": "HWdm4tLY6cNm"
      },
      "source": [
        "addedge(0, 1, 3)\n",
        "addedge(0, 2, 6)\n",
        "addedge(0, 3, 5)\n",
        "addedge(1, 4, 9)\n",
        "addedge(1, 5, 8)\n",
        "addedge(2, 6, 12)\n",
        "addedge(2, 7, 14)\n",
        "addedge(3, 8, 7)\n",
        "addedge(8, 9, 5)\n",
        "addedge(8, 10, 6)\n",
        "addedge(9, 11, 1)\n",
        "addedge(9, 12, 10)\n",
        "addedge(9, 13, 2)"
      ],
      "execution_count": 31,
      "outputs": []
    },
    {
      "cell_type": "code",
      "metadata": {
        "id": "lsZvdaUC7BYu"
      },
      "source": [
        "caminho_do_grafo = best_fs((0, 9))"
      ],
      "execution_count": 36,
      "outputs": []
    },
    {
      "cell_type": "code",
      "metadata": {
        "id": "FjManhCd7Epn",
        "colab": {
          "base_uri": "https://localhost:8080/"
        },
        "outputId": "11eed5b4-f7b4-4cdb-9860-797d82b3a073"
      },
      "source": [
        "custo_total = caminho_do_grafo.pop(-1)\n",
        "custo_total"
      ],
      "execution_count": 37,
      "outputs": [
        {
          "output_type": "execute_result",
          "data": {
            "text/plain": [
              "26"
            ]
          },
          "metadata": {
            "tags": []
          },
          "execution_count": 37
        }
      ]
    },
    {
      "cell_type": "code",
      "metadata": {
        "colab": {
          "base_uri": "https://localhost:8080/"
        },
        "id": "5tjTyY787GPB",
        "outputId": "95292b10-1f35-45de-fa2c-3fc5c772d0e1"
      },
      "source": [
        "caminho_do_grafo"
      ],
      "execution_count": 38,
      "outputs": [
        {
          "output_type": "execute_result",
          "data": {
            "text/plain": [
              "[0, 1, 3, 2, 8, 9]"
            ]
          },
          "metadata": {
            "tags": []
          },
          "execution_count": 38
        }
      ]
    },
    {
      "cell_type": "code",
      "metadata": {
        "colab": {
          "base_uri": "https://localhost:8080/",
          "height": 248
        },
        "id": "THpE6Bgm24QB",
        "outputId": "0fb4102b-bc7b-44db-ddf6-6d9d5f2ee895"
      },
      "source": [
        "draw_graph()"
      ],
      "execution_count": 39,
      "outputs": [
        {
          "output_type": "display_data",
          "data": {
            "image/png": "[encoded data removed]",
            "text/plain": [
              "<Figure size 432x288 with 1 Axes>"
            ]
          },
          "metadata": {
            "tags": []
          }
        }
      ]
    },
    {
      "cell_type": "markdown",
      "metadata": {
        "id": "kM0yBTmm7Lig"
      },
      "source": [
        "Teste 2\n",
        "\n",
        "```\n",
        "Saída esperada: \n",
        "Caminho = []\n",
        "Custo = 0\n",
        "```"
      ]
    },
    {
      "cell_type": "markdown",
      "metadata": {
        "id": "eaxo0fzH8D1e"
      },
      "source": [
        "Inicialização"
      ]
    },
    {
      "cell_type": "code",
      "metadata": {
        "id": "n0sAF0TK8Ej2"
      },
      "source": [
        "# v é a quantidade de vértices em G\n",
        "# DEVE SER INSERIDO\n",
        "v = 13\n",
        "# grafo é uma lista de listas de tamanho v\n",
        "grafo = [[] for i in range(v)]\n",
        "\n",
        "G=nx.Graph()\n",
        "edges = []"
      ],
      "execution_count": null,
      "outputs": []
    },
    {
      "cell_type": "markdown",
      "metadata": {
        "id": "rK4kypZL7gcF"
      },
      "source": [
        "Cria o grafo adicionando os vértices"
      ]
    },
    {
      "cell_type": "code",
      "metadata": {
        "id": "TSS-LAs16jCE"
      },
      "source": [
        "addedge(0, 1, 7)\n",
        "addedge(0, 2, 2)\n",
        "addedge(0, 3, 3)\n",
        "addedge(1, 2, 3)\n",
        "addedge(1, 4, 4)\n",
        "addedge(2, 4, 4)\n",
        "addedge(2, 5, 1)\n",
        "addedge(3, 6, 2)\n",
        "addedge(4, 7, 5)\n",
        "addedge(5, 7, 3)\n",
        "addedge(5, 8, 2)\n",
        "addedge(6, 9, 4)\n",
        "addedge(6, 10, 4)\n",
        "addedge(8, 12, 2)\n",
        "addedge(9, 11, 4)\n",
        "addedge(10, 11, 4)\n",
        "addedge(11, 12, 5)"
      ],
      "execution_count": null,
      "outputs": []
    },
    {
      "cell_type": "code",
      "metadata": {
        "colab": {
          "base_uri": "https://localhost:8080/"
        },
        "id": "IcEqIPhae-BR",
        "outputId": "12142c71-2355-4717-9033-18537ce8d696"
      },
      "source": [
        "grafo"
      ],
      "execution_count": null,
      "outputs": [
        {
          "output_type": "execute_result",
          "data": {
            "text/plain": [
              "[[(1, 7), (2, 2), (3, 3)],\n",
              " [(2, 3), (4, 4)],\n",
              " [(4, 4), (5, 1)],\n",
              " [(6, 2)],\n",
              " [(7, 5)],\n",
              " [(7, 3), (8, 2)],\n",
              " [(9, 4), (10, 4)],\n",
              " [],\n",
              " [(12, 2)],\n",
              " [(11, 4)],\n",
              " [(11, 4)],\n",
              " [(12, 5)]]"
            ]
          },
          "metadata": {
            "tags": []
          },
          "execution_count": 103
        }
      ]
    },
    {
      "cell_type": "code",
      "metadata": {
        "id": "zO84cceL7Pf2",
        "colab": {
          "base_uri": "https://localhost:8080/"
        },
        "outputId": "f3f4d545-b533-4077-c5f2-ffe21191be2e"
      },
      "source": [
        "caminho_do_grafo = best_first_search2((0,9))"
      ],
      "execution_count": null,
      "outputs": [
        {
          "output_type": "stream",
          "text": [
            "[(1, 7), (2, 2), (3, 3)]\n",
            "[(4, 4), (5, 1)]\n",
            "[(7, 3), (8, 2)]\n",
            "[(12, 2)]\n",
            "[]\n",
            "[(6, 2)]\n",
            "[(9, 4), (10, 4)]\n",
            "[]\n",
            "[(7, 5)]\n"
          ],
          "name": "stdout"
        }
      ]
    },
    {
      "cell_type": "code",
      "metadata": {
        "colab": {
          "base_uri": "https://localhost:8080/"
        },
        "id": "01SuJXL77Rk-",
        "outputId": "35e6da00-c67f-453b-ce44-1dfe9ed98888"
      },
      "source": [
        "custo_total = caminho_do_grafo.pop(-1)\n",
        "custo_total"
      ],
      "execution_count": null,
      "outputs": [
        {
          "output_type": "execute_result",
          "data": {
            "text/plain": [
              "23"
            ]
          },
          "metadata": {
            "tags": []
          },
          "execution_count": 107
        }
      ]
    },
    {
      "cell_type": "code",
      "metadata": {
        "colab": {
          "base_uri": "https://localhost:8080/"
        },
        "id": "71yNJnOP7TNf",
        "outputId": "6b534277-592c-4d77-89b4-0a21df444a6c"
      },
      "source": [
        "caminho_do_grafo"
      ],
      "execution_count": null,
      "outputs": [
        {
          "output_type": "execute_result",
          "data": {
            "text/plain": [
              "[0, 2, 5, 8, 12, 3, 6, 7, 4, 9]"
            ]
          },
          "metadata": {
            "tags": []
          },
          "execution_count": 108
        }
      ]
    },
    {
      "cell_type": "code",
      "metadata": {
        "colab": {
          "base_uri": "https://localhost:8080/",
          "height": 248
        },
        "id": "mFJpoejZ3CPm",
        "outputId": "d3c6c612-4893-4e2f-f0dd-bc2ccb0b8e15"
      },
      "source": [
        "draw_graph()"
      ],
      "execution_count": null,
      "outputs": [
        {
          "output_type": "display_data",
          "data": {
            "image/png": "[encoded data removed]",
            "text/plain": [
              "<Figure size 432x288 with 1 Axes>"
            ]
          },
          "metadata": {
            "tags": []
          }
        }
      ]
    }
  ]
}