{
  "nbformat": 4,
  "nbformat_minor": 0,
  "metadata": {
    "colab": {
      "name": "MATA53 - Best First Search Algorithm",
      "provenance": [],
      "authorship_tag": "ABX9TyOgdEMSqsd7tS0sxcXisL4s",
      "include_colab_link": true
    },
    "kernelspec": {
      "name": "python3",
      "display_name": "Python 3"
    },
    "language_info": {
      "name": "python"
    }
  },
  "cells": [
    {
      "cell_type": "markdown",
      "metadata": {
        "id": "view-in-github",
        "colab_type": "text"
      },
      "source": [
        "<a href=\"https://colab.research.google.com/github/lailamt/MATA53-best-first-search/blob/main/MATA53_Best_First_Search_Algorithm.ipynb\" target=\"_parent\"><img src=\"https://colab.research.google.com/assets/colab-badge.svg\" alt=\"Open In Colab\"/></a>"
      ]
    },
    {
      "cell_type": "markdown",
      "metadata": {
        "id": "MyC8Lns46T46"
      },
      "source": [
        "# Código certo!\n",
        "\n",
        "\n",
        "```\n",
        "# Implementação da função BFS\n",
        "```"
      ]
    },
    {
      "cell_type": "markdown",
      "metadata": {
        "id": "Nd_KASGV7pbu"
      },
      "source": [
        "Função que adiciona os vértices ao grafo"
      ]
    },
    {
      "cell_type": "code",
      "metadata": {
        "id": "t_y3WHkf6ac3"
      },
      "source": [
        "# addedge vincula um vértice ao outro e guarda o valor de custo\n",
        "def addedge(x, y, cost):\n",
        "  grafo[x].append((y, cost))\n",
        "\n",
        "# deve inserir os dados de (v_partida,v_chegada,custo_caminho)"
      ],
      "execution_count": 2,
      "outputs": []
    },
    {
      "cell_type": "markdown",
      "metadata": {
        "id": "tdpKkEkg6ohT"
      },
      "source": [
        "Função de ordenação da Lista de Tuplas"
      ]
    },
    {
      "cell_type": "code",
      "metadata": {
        "id": "1R3NjQbB6pYt"
      },
      "source": [
        "# Ordena de acordo com o valor de custo da Tupla (y,custo)\n",
        "def Sort_Tuple(tup): \n",
        "      \n",
        "    # pega o tamanho da lista de tuplas\n",
        "    lst = len(tup) \n",
        "    for i in range(0, lst): \n",
        "          \n",
        "        for j in range(0, lst-i-1): \n",
        "            if (tup[j][1] > tup[j + 1][1]): \n",
        "                temp = tup[j] \n",
        "                tup[j]= tup[j + 1] \n",
        "                tup[j + 1]= temp \n",
        "    return tup "
      ],
      "execution_count": 3,
      "outputs": []
    },
    {
      "cell_type": "markdown",
      "metadata": {
        "id": "_Pz6gFS96r2L"
      },
      "source": [
        "Best First Search Dumb"
      ]
    },
    {
      "cell_type": "code",
      "metadata": {
        "id": "qkCAo6Cj6uLg"
      },
      "source": [
        "# recebe dois valores como parâmetro\n",
        "# start = vértice_saída\n",
        "# end = vértice_chegada\n",
        "def best_first_search(start, end):\n",
        "  visitado = []\n",
        "  visitar = []\n",
        "  total_custo = 0\n",
        "\n",
        "  visitado.append(start)\n",
        "\n",
        "  for x in grafo[start]:\n",
        "    visitar.append(x)\n",
        "  \n",
        "  Sort_Tuple(visitar)\n",
        "  visitado.append(visitar[0][0])\n",
        "\n",
        "  while visitar[0][0] != end:\n",
        "    total_custo += visitar[0][1]\n",
        "    for x in grafo[visitar[0][0]]:\n",
        "      visitar.append(x)\n",
        "    visitar.pop(0)\n",
        "    Sort_Tuple(visitar)\n",
        "    visitado.append(visitar[0][0])\n",
        "\n",
        "  total_custo+=visitar[0][1] \n",
        "  visitado.append(total_custo)\n",
        "  return visitado"
      ],
      "execution_count": 18,
      "outputs": []
    },
    {
      "cell_type": "code",
      "metadata": {
        "id": "vomjGoGz6wSV"
      },
      "source": [
        "# recebe uma tupla como parâmetro\n",
        "# caminho = (vértice_saída, vértice_chegada)\n",
        "def best_first_search2(caminho):\n",
        "  visitado = []\n",
        "  visitar = []\n",
        "  total_custo = 0\n",
        "\n",
        "  visitar.append((caminho[0],total_custo))\n",
        "  #print(visitar)\n",
        "  \n",
        "  if visitar[0][0] == caminho[1]:\n",
        "    #visitado.append(visitar[0][0])\n",
        "    visitado.append(total_custo)\n",
        "    print(\"O vértice de saída é igual ao vértice de entrada.\")\n",
        "  else:\n",
        "    while visitar[0][0] != caminho[1]:\n",
        "      visitado.append(visitar[0][0])\n",
        "      total_custo += visitar[0][1]\n",
        "      for x in grafo[visitar[0][0]]:\n",
        "        visitar.append(x)\n",
        "      visitar.pop(0)\n",
        "      Sort_Tuple(visitar)\n",
        "\n",
        "    visitado.append(visitar[0][0])\n",
        "    total_custo+=visitar[0][1] \n",
        "    visitado.append(total_custo)\n",
        "  return visitado"
      ],
      "execution_count": 17,
      "outputs": []
    },
    {
      "cell_type": "markdown",
      "metadata": {
        "id": "Z3mKPc7U6zjo"
      },
      "source": [
        "Teste 1\n",
        "\n",
        "```\n",
        "Saída esperada: \n",
        "Caminho = [0, 1, 3, 2, 8, 9]\n",
        "Custo = 26\n",
        "```"
      ]
    },
    {
      "cell_type": "markdown",
      "metadata": {
        "id": "IRFM3bxI8CPQ"
      },
      "source": [
        "Inicialização"
      ]
    },
    {
      "cell_type": "code",
      "metadata": {
        "id": "yM9CZ_Vj7-ph"
      },
      "source": [
        "# v é a quantidade de vértices em G\n",
        "# DEVE SER INSERIDO\n",
        "v = 14\n",
        "# grafo é uma lista de listas de tamanho v\n",
        "grafo = [[] for i in range(v)]"
      ],
      "execution_count": 19,
      "outputs": []
    },
    {
      "cell_type": "markdown",
      "metadata": {
        "id": "lnbZz4006gqV"
      },
      "source": [
        "Cria o grafo adicionando os vértices"
      ]
    },
    {
      "cell_type": "code",
      "metadata": {
        "id": "HWdm4tLY6cNm"
      },
      "source": [
        "addedge(0, 1, 3)\n",
        "addedge(0, 2, 6)\n",
        "addedge(0, 3, 5)\n",
        "addedge(1, 4, 9)\n",
        "addedge(1, 5, 8)\n",
        "addedge(2, 6, 12)\n",
        "addedge(2, 7, 14)\n",
        "addedge(3, 8, 7)\n",
        "addedge(8, 9, 5)\n",
        "addedge(8, 10, 6)\n",
        "addedge(9, 11, 1)\n",
        "addedge(9, 12, 10)\n",
        "addedge(9, 13, 2)"
      ],
      "execution_count": 20,
      "outputs": []
    },
    {
      "cell_type": "code",
      "metadata": {
        "id": "lsZvdaUC7BYu"
      },
      "source": [
        "caminho_do_grafo = best_first_search(0, 9)"
      ],
      "execution_count": 21,
      "outputs": []
    },
    {
      "cell_type": "code",
      "metadata": {
        "colab": {
          "base_uri": "https://localhost:8080/"
        },
        "id": "FjManhCd7Epn",
        "outputId": "d4f63fa4-0c9c-438d-9f42-ec0f94ed16d1"
      },
      "source": [
        "custo_total = caminho_do_grafo.pop(-1)\n",
        "custo_total"
      ],
      "execution_count": 22,
      "outputs": [
        {
          "output_type": "execute_result",
          "data": {
            "text/plain": [
              "26"
            ]
          },
          "metadata": {
            "tags": []
          },
          "execution_count": 22
        }
      ]
    },
    {
      "cell_type": "code",
      "metadata": {
        "colab": {
          "base_uri": "https://localhost:8080/"
        },
        "id": "5tjTyY787GPB",
        "outputId": "ac21bad7-c97f-43f1-8701-4c558e42fb7e"
      },
      "source": [
        "caminho_do_grafo"
      ],
      "execution_count": 23,
      "outputs": [
        {
          "output_type": "execute_result",
          "data": {
            "text/plain": [
              "[0, 1, 3, 2, 8, 9]"
            ]
          },
          "metadata": {
            "tags": []
          },
          "execution_count": 23
        }
      ]
    },
    {
      "cell_type": "markdown",
      "metadata": {
        "id": "kM0yBTmm7Lig"
      },
      "source": [
        "Teste 2\n",
        "\n",
        "```\n",
        "Saída esperada: \n",
        "Caminho = []\n",
        "Custo = 0\n",
        "```"
      ]
    },
    {
      "cell_type": "markdown",
      "metadata": {
        "id": "eaxo0fzH8D1e"
      },
      "source": [
        "Inicialização"
      ]
    },
    {
      "cell_type": "code",
      "metadata": {
        "id": "n0sAF0TK8Ej2"
      },
      "source": [
        "# v é a quantidade de vértices em G\n",
        "# DEVE SER INSERIDO\n",
        "v = 12\n",
        "# grafo é uma lista de listas de tamanho v\n",
        "grafo = [[] for i in range(v)]"
      ],
      "execution_count": 10,
      "outputs": []
    },
    {
      "cell_type": "markdown",
      "metadata": {
        "id": "rK4kypZL7gcF"
      },
      "source": [
        "Cria o grafo adicionando os vértices"
      ]
    },
    {
      "cell_type": "code",
      "metadata": {
        "id": "TSS-LAs16jCE"
      },
      "source": [
        "addedge(0, 1, 7)\n",
        "addedge(0, 2, 2)\n",
        "addedge(0, 3, 3)\n",
        "addedge(1, 2, 3)\n",
        "addedge(1, 4, 4)\n",
        "addedge(2, 4, 4)\n",
        "addedge(2, 5, 1)\n",
        "addedge(3, 6, 2)\n",
        "addedge(4, 7, 5)\n",
        "addedge(5, 7, 3)\n",
        "addedge(5, 8, 2)\n",
        "addedge(6, 9, 4)\n",
        "addedge(6, 10, 4)\n",
        "addedge(8, 12, 2)\n",
        "addedge(9, 11, 4)\n",
        "addedge(10, 11, 4)\n",
        "addedge(11, 12, 5)"
      ],
      "execution_count": 11,
      "outputs": []
    },
    {
      "cell_type": "code",
      "metadata": {
        "colab": {
          "base_uri": "https://localhost:8080/"
        },
        "id": "zO84cceL7Pf2",
        "outputId": "ea83ac8e-6bde-4cf3-8375-62a58250902b"
      },
      "source": [
        "caminho_do_grafo = best_first_search2((12,12))"
      ],
      "execution_count": 14,
      "outputs": [
        {
          "output_type": "stream",
          "text": [
            "O vértice de saída é igual ao vértice de entrada.\n"
          ],
          "name": "stdout"
        }
      ]
    },
    {
      "cell_type": "code",
      "metadata": {
        "colab": {
          "base_uri": "https://localhost:8080/"
        },
        "id": "01SuJXL77Rk-",
        "outputId": "52fa3e62-6858-485e-d6d7-7e692e271296"
      },
      "source": [
        "custo_total = caminho_do_grafo.pop(-1)\n",
        "custo_total"
      ],
      "execution_count": 15,
      "outputs": [
        {
          "output_type": "execute_result",
          "data": {
            "text/plain": [
              "0"
            ]
          },
          "metadata": {
            "tags": []
          },
          "execution_count": 15
        }
      ]
    },
    {
      "cell_type": "code",
      "metadata": {
        "colab": {
          "base_uri": "https://localhost:8080/"
        },
        "id": "71yNJnOP7TNf",
        "outputId": "3a896d7c-98db-41de-9ceb-9a3b0dcd1311"
      },
      "source": [
        "caminho_do_grafo"
      ],
      "execution_count": 16,
      "outputs": [
        {
          "output_type": "execute_result",
          "data": {
            "text/plain": [
              "[]"
            ]
          },
          "metadata": {
            "tags": []
          },
          "execution_count": 16
        }
      ]
    }
  ]
}