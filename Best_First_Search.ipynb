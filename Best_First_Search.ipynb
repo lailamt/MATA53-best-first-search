{
  "nbformat": 4,
  "nbformat_minor": 0,
  "metadata": {
    "colab": {
      "name": "Best First Search.ipynb",
      "provenance": [],
      "collapsed_sections": [],
      "include_colab_link": true
    },
    "kernelspec": {
      "name": "python3",
      "display_name": "Python 3"
    },
    "language_info": {
      "name": "python"
    }
  },
  "cells": [
    {
      "cell_type": "markdown",
      "metadata": {
        "id": "view-in-github",
        "colab_type": "text"
      },
      "source": [
        "<a href=\"https://colab.research.google.com/github/lailamt/MATA53-best-first-search/blob/main/Best_First_Search.ipynb\" target=\"_parent\"><img src=\"https://colab.research.google.com/assets/colab-badge.svg\" alt=\"Open In Colab\"/></a>"
      ]
    },
    {
      "cell_type": "markdown",
      "metadata": {
        "id": "kHE3T7kWgUta"
      },
      "source": [
        "# Código certo!\n",
        "\n",
        "\n",
        "```\n",
        "# Implementação da função BFS\n",
        "```\n",
        "\n"
      ]
    },
    {
      "cell_type": "code",
      "metadata": {
        "id": "HfjiF5bggXsB"
      },
      "source": [
        "# v é a quantidade de vértices em G\n",
        "# DEVE SER INSERIDO\n",
        "v = 12\n",
        "# grafo é uma lista de listas de tamanho v\n",
        "grafo = [[] for i in range(v)]"
      ],
      "execution_count": 246,
      "outputs": []
    },
    {
      "cell_type": "code",
      "metadata": {
        "id": "XmGD6w50hlbf"
      },
      "source": [
        "# addedge vincula um vértice ao outro e guarda o valor de custo\n",
        "def addedge(x, y, cost):\n",
        "  grafo[x].append((y, cost))\n",
        "\n",
        "# deve inserir os dados de (v_partida,v_chegada,custo_caminho)"
      ],
      "execution_count": 247,
      "outputs": []
    },
    {
      "cell_type": "markdown",
      "metadata": {
        "id": "bvxKjow1iPfD"
      },
      "source": [
        "Cria o grafo adicionando os vértices"
      ]
    },
    {
      "cell_type": "code",
      "metadata": {
        "id": "bWxQl0tYgX0J"
      },
      "source": [
        "addedge(0, 1, 3)\n",
        "addedge(0, 2, 6)\n",
        "addedge(0, 3, 5)\n",
        "addedge(1, 4, 9)\n",
        "addedge(1, 5, 8)\n",
        "addedge(2, 6, 12)\n",
        "addedge(2, 7, 14)\n",
        "addedge(3, 8, 7)\n",
        "addedge(8, 9, 5)\n",
        "addedge(8, 10, 6)\n",
        "addedge(9, 11, 1)\n",
        "addedge(9, 12, 10)\n",
        "addedge(9, 13, 2)"
      ],
      "execution_count": 232,
      "outputs": []
    },
    {
      "cell_type": "code",
      "metadata": {
        "id": "18_ZfbU-xD--"
      },
      "source": [
        "addedge(0, 1, 7)\n",
        "addedge(0, 2, 2)\n",
        "addedge(0, 3, 3)\n",
        "addedge(1, 2, 3)\n",
        "addedge(1, 4, 4)\n",
        "addedge(2, 4, 4)\n",
        "addedge(2, 5, 1)\n",
        "addedge(3, 6, 2)\n",
        "addedge(4, 7, 5)\n",
        "addedge(5, 7, 3)\n",
        "addedge(5, 8, 2)\n",
        "addedge(6, 9, 4)\n",
        "addedge(6, 10, 4)\n",
        "addedge(8, 12, 2)\n",
        "addedge(9, 11, 4)\n",
        "addedge(10, 11, 4)\n",
        "addedge(11, 12, 5)"
      ],
      "execution_count": 248,
      "outputs": []
    },
    {
      "cell_type": "markdown",
      "metadata": {
        "id": "JtNL9pzBoDv1"
      },
      "source": [
        "Função de ordenação da Lista de Tuplas"
      ]
    },
    {
      "cell_type": "code",
      "metadata": {
        "id": "R3CR47q4oJdc"
      },
      "source": [
        "# Ordena de acordo com o valor de custo da Tupla (y,custo)\n",
        "def Sort_Tuple(tup): \n",
        "      \n",
        "    # pega o tamanho da lista de tuplas\n",
        "    lst = len(tup) \n",
        "    for i in range(0, lst): \n",
        "          \n",
        "        for j in range(0, lst-i-1): \n",
        "            if (tup[j][1] > tup[j + 1][1]): \n",
        "                temp = tup[j] \n",
        "                tup[j]= tup[j + 1] \n",
        "                tup[j + 1]= temp \n",
        "    return tup "
      ],
      "execution_count": 249,
      "outputs": []
    },
    {
      "cell_type": "markdown",
      "metadata": {
        "id": "5AZkaCK_ggJj"
      },
      "source": [
        "Best First Search Dumb"
      ]
    },
    {
      "cell_type": "code",
      "metadata": {
        "id": "LPF2Wjyci-X3"
      },
      "source": [
        "def best_first_search(start, end):\n",
        "  visitado = []\n",
        "  visitar = []\n",
        "  total_custo = 0\n",
        "\n",
        "  visitado.append(start)\n",
        "\n",
        "  for x in grafo[start]:\n",
        "    visitar.append(x)\n",
        "  \n",
        "  Sort_Tuple(visitar)\n",
        "  visitado.append(visitar[0][0])\n",
        "\n",
        "  while visitar[0][0] != end:\n",
        "    total_custo += visitar[0][1]\n",
        "    for x in grafo[visitar[0][0]]:\n",
        "      visitar.append(x)\n",
        "    visitar.pop(0)\n",
        "    Sort_Tuple(visitar)\n",
        "    visitado.append(visitar[0][0])\n",
        "\n",
        "  total_custo+=visitar[0][1] \n",
        "  visitado.append(total_custo)\n",
        "  return visitado\n"
      ],
      "execution_count": 259,
      "outputs": []
    },
    {
      "cell_type": "code",
      "metadata": {
        "id": "V1RifBQN0dOX"
      },
      "source": [
        "def best_first_search2(caminho):\n",
        "  visitado = []\n",
        "  visitar = []\n",
        "  total_custo = 0\n",
        "\n",
        "  visitar.append((caminho[0],total_custo))\n",
        "  #print(visitar)\n",
        "  \n",
        "  if visitar[0][0] == caminho[1]:\n",
        "    #visitado.append(visitar[0][0])\n",
        "    visitado.append(total_custo)\n",
        "    print(\"O vértice de saída é igual ao vértice de entrada.\")\n",
        "  else:\n",
        "    while visitar[0][0] != caminho[1]:\n",
        "      visitado.append(visitar[0][0])\n",
        "      total_custo += visitar[0][1]\n",
        "      for x in grafo[visitar[0][0]]:\n",
        "        visitar.append(x)\n",
        "      visitar.pop(0)\n",
        "      Sort_Tuple(visitar)\n",
        "\n",
        "    visitado.append(visitar[0][0])\n",
        "    total_custo+=visitar[0][1] \n",
        "    visitado.append(total_custo)\n",
        "  return visitado\n"
      ],
      "execution_count": 303,
      "outputs": []
    },
    {
      "cell_type": "code",
      "metadata": {
        "colab": {
          "base_uri": "https://localhost:8080/"
        },
        "id": "lNN2T4ed0f3W",
        "outputId": "9fd6f364-181f-4cd2-f580-2487df4a1742"
      },
      "source": [
        "caminho_do_grafo = best_first_search2((12,12))"
      ],
      "execution_count": 304,
      "outputs": [
        {
          "output_type": "stream",
          "text": [
            "O vértice de saída é igual ao vértice de entrada.\n"
          ],
          "name": "stdout"
        }
      ]
    },
    {
      "cell_type": "code",
      "metadata": {
        "colab": {
          "base_uri": "https://localhost:8080/"
        },
        "id": "EdDsNLta2ORX",
        "outputId": "a6f2a262-c154-4352-bf29-f8f8aec367ad"
      },
      "source": [
        "custo_total = caminho_do_grafo.pop(-1)\n",
        "custo_total"
      ],
      "execution_count": 305,
      "outputs": [
        {
          "output_type": "execute_result",
          "data": {
            "text/plain": [
              "0"
            ]
          },
          "metadata": {
            "tags": []
          },
          "execution_count": 305
        }
      ]
    },
    {
      "cell_type": "code",
      "metadata": {
        "colab": {
          "base_uri": "https://localhost:8080/"
        },
        "id": "75Gf8rdf2O4l",
        "outputId": "834381d3-160a-443c-a887-9ea887f3f7ed"
      },
      "source": [
        "caminho_do_grafo"
      ],
      "execution_count": 306,
      "outputs": [
        {
          "output_type": "execute_result",
          "data": {
            "text/plain": [
              "[]"
            ]
          },
          "metadata": {
            "tags": []
          },
          "execution_count": 306
        }
      ]
    },
    {
      "cell_type": "markdown",
      "metadata": {
        "id": "BpIMhUs_jKMc"
      },
      "source": [
        "Uso da função BFS"
      ]
    },
    {
      "cell_type": "code",
      "metadata": {
        "id": "ij65XM37gj9L"
      },
      "source": [
        "caminho_do_grafo = best_first_search(2, 12)\n"
      ],
      "execution_count": 260,
      "outputs": []
    },
    {
      "cell_type": "code",
      "metadata": {
        "colab": {
          "base_uri": "https://localhost:8080/"
        },
        "id": "YMQ2k0Msl-GU",
        "outputId": "7dabb9be-58b4-45a7-8f2c-c1c0de50cae1"
      },
      "source": [
        "custo_total = caminho_do_grafo.pop(-1)\n",
        "custo_total"
      ],
      "execution_count": 261,
      "outputs": [
        {
          "output_type": "execute_result",
          "data": {
            "text/plain": [
              "5"
            ]
          },
          "metadata": {
            "tags": []
          },
          "execution_count": 261
        }
      ]
    },
    {
      "cell_type": "code",
      "metadata": {
        "colab": {
          "base_uri": "https://localhost:8080/"
        },
        "id": "olRgrdx9nN3s",
        "outputId": "2f1c0393-244c-44b1-a9a7-6c1edd420d0c"
      },
      "source": [
        "caminho_do_grafo"
      ],
      "execution_count": 262,
      "outputs": [
        {
          "output_type": "execute_result",
          "data": {
            "text/plain": [
              "[2, 5, 8, 12]"
            ]
          },
          "metadata": {
            "tags": []
          },
          "execution_count": 262
        }
      ]
    },
    {
      "cell_type": "markdown",
      "metadata": {
        "id": "MbkjaYe9LalL"
      },
      "source": [
        "# Tentativas de ordenação da Tupla\n"
      ]
    },
    {
      "cell_type": "code",
      "metadata": {
        "id": "Iq-WE3lGFZni"
      },
      "source": [
        "def Sort_Tuple(tup): \n",
        "      \n",
        "    # getting length of list of tuples\n",
        "    lst = len(tup) \n",
        "    for i in range(0, lst): \n",
        "          \n",
        "        for j in range(0, lst-i-1): \n",
        "            if (tup[j][1] > tup[j + 1][1]): \n",
        "                temp = tup[j] \n",
        "                tup[j]= tup[j + 1] \n",
        "                tup[j + 1]= temp \n",
        "    return tup \n",
        "  "
      ],
      "execution_count": null,
      "outputs": []
    },
    {
      "cell_type": "markdown",
      "metadata": {
        "id": "i2LLDK7XLA7J"
      },
      "source": [
        "\n",
        "# Testando um a um\n"
      ]
    },
    {
      "cell_type": "code",
      "metadata": {
        "colab": {
          "base_uri": "https://localhost:8080/"
        },
        "id": "xxiPCvkrIIO7",
        "outputId": "b5c66dbc-716f-4e95-e184-220982ce2136"
      },
      "source": [
        "v = 14\n",
        "grafo = [[] for i in range(v)]\n",
        "grafo"
      ],
      "execution_count": null,
      "outputs": [
        {
          "output_type": "execute_result",
          "data": {
            "text/plain": [
              "[[], [], [], [], [], [], [], [], [], [], [], [], [], []]"
            ]
          },
          "metadata": {
            "tags": []
          },
          "execution_count": 12
        }
      ]
    },
    {
      "cell_type": "code",
      "metadata": {
        "id": "F2FU5YyFIuux"
      },
      "source": [
        "def addedge(x, y, cost):\n",
        "  grafo[x].append((y, cost))\n",
        "  grafo[y].append((x, cost))"
      ],
      "execution_count": null,
      "outputs": []
    },
    {
      "cell_type": "code",
      "metadata": {
        "colab": {
          "base_uri": "https://localhost:8080/"
        },
        "id": "FPIHJxGfJL0t",
        "outputId": "e6041fca-2dee-43ac-fc9f-1355f957d24a"
      },
      "source": [
        "# The nodes shown in above example(by alphabets) are\n",
        "# implemented using integers addedge(x,cost,y);\n",
        "addedge(0, 1, 3)\n",
        "for elemento in grafo:\n",
        "  print(elemento)"
      ],
      "execution_count": null,
      "outputs": [
        {
          "output_type": "stream",
          "text": [
            "[(1, 3)]\n",
            "[(0, 3)]\n",
            "[]\n",
            "[]\n",
            "[]\n",
            "[]\n",
            "[]\n",
            "[]\n",
            "[]\n",
            "[]\n",
            "[]\n",
            "[]\n",
            "[]\n",
            "[]\n"
          ],
          "name": "stdout"
        }
      ]
    },
    {
      "cell_type": "code",
      "metadata": {
        "colab": {
          "base_uri": "https://localhost:8080/"
        },
        "id": "G0dk0nHCJwdm",
        "outputId": "0b373cc7-869e-431e-bfd6-1adb33ff3380"
      },
      "source": [
        "addedge(0, 2, 6)\n",
        "for elemento in grafo:\n",
        "  print(elemento)"
      ],
      "execution_count": null,
      "outputs": [
        {
          "output_type": "stream",
          "text": [
            "[(1, 3), (2, 6)]\n",
            "[(0, 3)]\n",
            "[(0, 6)]\n",
            "[]\n",
            "[]\n",
            "[]\n",
            "[]\n",
            "[]\n",
            "[]\n",
            "[]\n",
            "[]\n",
            "[]\n",
            "[]\n",
            "[]\n"
          ],
          "name": "stdout"
        }
      ]
    },
    {
      "cell_type": "code",
      "metadata": {
        "colab": {
          "base_uri": "https://localhost:8080/"
        },
        "id": "NWkkS_aLJ2vL",
        "outputId": "00170085-f099-4c04-8d24-94a5e9360cc3"
      },
      "source": [
        "addedge(0, 3, 5)\n",
        "for elemento in grafo:\n",
        "  print(elemento)"
      ],
      "execution_count": null,
      "outputs": [
        {
          "output_type": "stream",
          "text": [
            "[(1, 3), (2, 6), (3, 5)]\n",
            "[(0, 3)]\n",
            "[(0, 6)]\n",
            "[(0, 5)]\n",
            "[]\n",
            "[]\n",
            "[]\n",
            "[]\n",
            "[]\n",
            "[]\n",
            "[]\n",
            "[]\n",
            "[]\n",
            "[]\n"
          ],
          "name": "stdout"
        }
      ]
    },
    {
      "cell_type": "code",
      "metadata": {
        "colab": {
          "base_uri": "https://localhost:8080/"
        },
        "id": "ssxhEjp9KEZi",
        "outputId": "b41d2f46-df66-4451-c1ed-143afe14498b"
      },
      "source": [
        "addedge(1, 4, 9)\n",
        "for elemento in grafo:\n",
        "  print(elemento)"
      ],
      "execution_count": null,
      "outputs": [
        {
          "output_type": "stream",
          "text": [
            "[(1, 3), (2, 6), (3, 5)]\n",
            "[(0, 3), (4, 9)]\n",
            "[(0, 6)]\n",
            "[(0, 5)]\n",
            "[(1, 9)]\n",
            "[]\n",
            "[]\n",
            "[]\n",
            "[]\n",
            "[]\n",
            "[]\n",
            "[]\n",
            "[]\n",
            "[]\n"
          ],
          "name": "stdout"
        }
      ]
    },
    {
      "cell_type": "code",
      "metadata": {
        "colab": {
          "base_uri": "https://localhost:8080/"
        },
        "id": "mD-FcyAyKHUq",
        "outputId": "d369576e-4b28-41bb-9ae2-a81450b25c0a"
      },
      "source": [
        "addedge(1, 5, 8)\n",
        "for elemento in grafo:\n",
        "  print(elemento)"
      ],
      "execution_count": null,
      "outputs": [
        {
          "output_type": "stream",
          "text": [
            "[(1, 3), (2, 6), (3, 5)]\n",
            "[(0, 3), (4, 9), (5, 8)]\n",
            "[(0, 6)]\n",
            "[(0, 5)]\n",
            "[(1, 9)]\n",
            "[(1, 8)]\n",
            "[]\n",
            "[]\n",
            "[]\n",
            "[]\n",
            "[]\n",
            "[]\n",
            "[]\n",
            "[]\n"
          ],
          "name": "stdout"
        }
      ]
    },
    {
      "cell_type": "code",
      "metadata": {
        "colab": {
          "base_uri": "https://localhost:8080/"
        },
        "id": "RCpzjhsnKHmj",
        "outputId": "563d5e41-107a-422a-dfc1-eda2d21d6129"
      },
      "source": [
        "addedge(2, 6, 12)\n",
        "for elemento in grafo:\n",
        "  print(elemento)"
      ],
      "execution_count": null,
      "outputs": [
        {
          "output_type": "stream",
          "text": [
            "[(1, 3), (2, 6), (3, 5)]\n",
            "[(0, 3), (4, 9), (5, 8)]\n",
            "[(0, 6), (6, 12)]\n",
            "[(0, 5)]\n",
            "[(1, 9)]\n",
            "[(1, 8)]\n",
            "[(2, 12)]\n",
            "[]\n",
            "[]\n",
            "[]\n",
            "[]\n",
            "[]\n",
            "[]\n",
            "[]\n"
          ],
          "name": "stdout"
        }
      ]
    },
    {
      "cell_type": "code",
      "metadata": {
        "colab": {
          "base_uri": "https://localhost:8080/"
        },
        "id": "hpp8-Z1eKKTj",
        "outputId": "6563f7be-7221-470f-e428-df82eb175fd7"
      },
      "source": [
        "addedge(2, 7, 14)\n",
        "for elemento in grafo:\n",
        "  print(elemento)"
      ],
      "execution_count": null,
      "outputs": [
        {
          "output_type": "stream",
          "text": [
            "[(1, 3), (2, 6), (3, 5)]\n",
            "[(0, 3), (4, 9), (5, 8)]\n",
            "[(0, 6), (6, 12), (7, 14)]\n",
            "[(0, 5)]\n",
            "[(1, 9)]\n",
            "[(1, 8)]\n",
            "[(2, 12)]\n",
            "[(2, 14)]\n",
            "[]\n",
            "[]\n",
            "[]\n",
            "[]\n",
            "[]\n",
            "[]\n"
          ],
          "name": "stdout"
        }
      ]
    },
    {
      "cell_type": "code",
      "metadata": {
        "colab": {
          "base_uri": "https://localhost:8080/"
        },
        "id": "DJqAQtuFKKqS",
        "outputId": "a2c99219-196b-4c0c-c32b-764048d0588c"
      },
      "source": [
        "addedge(3, 8, 7)\n",
        "for elemento in grafo:\n",
        "  print(elemento)"
      ],
      "execution_count": null,
      "outputs": [
        {
          "output_type": "stream",
          "text": [
            "[(1, 3), (2, 6), (3, 5)]\n",
            "[(0, 3), (4, 9), (5, 8)]\n",
            "[(0, 6), (6, 12), (7, 14)]\n",
            "[(0, 5), (8, 7)]\n",
            "[(1, 9)]\n",
            "[(1, 8)]\n",
            "[(2, 12)]\n",
            "[(2, 14)]\n",
            "[(3, 7)]\n",
            "[]\n",
            "[]\n",
            "[]\n",
            "[]\n",
            "[]\n"
          ],
          "name": "stdout"
        }
      ]
    },
    {
      "cell_type": "code",
      "metadata": {
        "colab": {
          "base_uri": "https://localhost:8080/"
        },
        "id": "iL3g6KNVKK2a",
        "outputId": "8a022330-560f-4fb9-81c4-9131596e88bf"
      },
      "source": [
        "addedge(8, 9, 5)\n",
        "for elemento in grafo:\n",
        "  print(elemento)"
      ],
      "execution_count": null,
      "outputs": [
        {
          "output_type": "stream",
          "text": [
            "[(1, 3), (2, 6), (3, 5)]\n",
            "[(0, 3), (4, 9), (5, 8)]\n",
            "[(0, 6), (6, 12), (7, 14)]\n",
            "[(0, 5), (8, 7)]\n",
            "[(1, 9)]\n",
            "[(1, 8)]\n",
            "[(2, 12)]\n",
            "[(2, 14)]\n",
            "[(3, 7), (9, 5)]\n",
            "[(8, 5)]\n",
            "[]\n",
            "[]\n",
            "[]\n",
            "[]\n"
          ],
          "name": "stdout"
        }
      ]
    },
    {
      "cell_type": "code",
      "metadata": {
        "colab": {
          "base_uri": "https://localhost:8080/"
        },
        "id": "BVtIYrjmKQsq",
        "outputId": "b70c257b-9fcd-4d94-a32b-447a03a18d7e"
      },
      "source": [
        "addedge(8, 10, 6)\n",
        "for elemento in grafo:\n",
        "  print(elemento)"
      ],
      "execution_count": null,
      "outputs": [
        {
          "output_type": "stream",
          "text": [
            "[(1, 3), (2, 6), (3, 5)]\n",
            "[(0, 3), (4, 9), (5, 8)]\n",
            "[(0, 6), (6, 12), (7, 14)]\n",
            "[(0, 5), (8, 7)]\n",
            "[(1, 9)]\n",
            "[(1, 8)]\n",
            "[(2, 12)]\n",
            "[(2, 14)]\n",
            "[(3, 7), (9, 5), (10, 6)]\n",
            "[(8, 5)]\n",
            "[(8, 6)]\n",
            "[]\n",
            "[]\n",
            "[]\n"
          ],
          "name": "stdout"
        }
      ]
    },
    {
      "cell_type": "code",
      "metadata": {
        "colab": {
          "base_uri": "https://localhost:8080/"
        },
        "id": "e4U2VZYgKQ4Z",
        "outputId": "6045cabd-81e4-4baf-ccdd-10e4fba459d4"
      },
      "source": [
        "addedge(9, 11, 1)\n",
        "for elemento in grafo:\n",
        "  print(elemento)"
      ],
      "execution_count": null,
      "outputs": [
        {
          "output_type": "stream",
          "text": [
            "[(1, 3), (2, 6), (3, 5)]\n",
            "[(0, 3), (4, 9), (5, 8)]\n",
            "[(0, 6), (6, 12), (7, 14)]\n",
            "[(0, 5), (8, 7)]\n",
            "[(1, 9)]\n",
            "[(1, 8)]\n",
            "[(2, 12)]\n",
            "[(2, 14)]\n",
            "[(3, 7), (9, 5), (10, 6)]\n",
            "[(8, 5), (11, 1)]\n",
            "[(8, 6)]\n",
            "[(9, 1)]\n",
            "[]\n",
            "[]\n"
          ],
          "name": "stdout"
        }
      ]
    },
    {
      "cell_type": "code",
      "metadata": {
        "colab": {
          "base_uri": "https://localhost:8080/"
        },
        "id": "BAxxtD1xKUAd",
        "outputId": "818718ef-d403-4d31-a48f-baab1113e419"
      },
      "source": [
        "addedge(9, 12, 10)\n",
        "for elemento in grafo:\n",
        "  print(elemento)"
      ],
      "execution_count": null,
      "outputs": [
        {
          "output_type": "stream",
          "text": [
            "[(1, 3), (2, 6), (3, 5)]\n",
            "[(0, 3), (4, 9), (5, 8)]\n",
            "[(0, 6), (6, 12), (7, 14)]\n",
            "[(0, 5), (8, 7)]\n",
            "[(1, 9)]\n",
            "[(1, 8)]\n",
            "[(2, 12)]\n",
            "[(2, 14)]\n",
            "[(3, 7), (9, 5), (10, 6)]\n",
            "[(8, 5), (11, 1), (12, 10)]\n",
            "[(8, 6)]\n",
            "[(9, 1)]\n",
            "[(9, 10)]\n",
            "[]\n"
          ],
          "name": "stdout"
        }
      ]
    },
    {
      "cell_type": "code",
      "metadata": {
        "colab": {
          "base_uri": "https://localhost:8080/"
        },
        "id": "1TfZn4QuKUIq",
        "outputId": "206c6333-6fe1-4d98-b745-4a3dc8c4890b"
      },
      "source": [
        "addedge(9, 13, 2)\n",
        "for elemento in grafo:\n",
        "  print(elemento)"
      ],
      "execution_count": null,
      "outputs": [
        {
          "output_type": "stream",
          "text": [
            "[(1, 3), (2, 6), (3, 5)]\n",
            "[(0, 3), (4, 9), (5, 8)]\n",
            "[(0, 6), (6, 12), (7, 14)]\n",
            "[(0, 5), (8, 7)]\n",
            "[(1, 9)]\n",
            "[(1, 8)]\n",
            "[(2, 12)]\n",
            "[(2, 14)]\n",
            "[(3, 7), (9, 5), (10, 6)]\n",
            "[(8, 5), (11, 1), (12, 10), (13, 2)]\n",
            "[(8, 6)]\n",
            "[(9, 1)]\n",
            "[(9, 10)]\n",
            "[(9, 2)]\n"
          ],
          "name": "stdout"
        }
      ]
    },
    {
      "cell_type": "markdown",
      "metadata": {
        "id": "c9ZmBjNNLLCK"
      },
      "source": [
        "# Testando todos de uma vez"
      ]
    },
    {
      "cell_type": "code",
      "metadata": {
        "colab": {
          "base_uri": "https://localhost:8080/"
        },
        "id": "Z4IWqLs6K5S1",
        "outputId": "242ebee0-5495-4bfd-90ca-9719b0c7411f"
      },
      "source": [
        "v = 14\n",
        "grafo = [[] for i in range(v)]\n",
        "grafo"
      ],
      "execution_count": null,
      "outputs": [
        {
          "output_type": "execute_result",
          "data": {
            "text/plain": [
              "[[], [], [], [], [], [], [], [], [], [], [], [], [], []]"
            ]
          },
          "metadata": {
            "tags": []
          },
          "execution_count": 187
        }
      ]
    },
    {
      "cell_type": "code",
      "metadata": {
        "id": "V0KCa3EZK9OM"
      },
      "source": [
        "def addedge(x, y, cost):\n",
        "  grafo[x].append((y, cost))\n",
        "  #grafo[y].append((x, cost))"
      ],
      "execution_count": null,
      "outputs": []
    },
    {
      "cell_type": "code",
      "metadata": {
        "colab": {
          "base_uri": "https://localhost:8080/"
        },
        "id": "Wfbc_1nMJQhy",
        "outputId": "2d840a82-2fa8-4283-d43e-d8ee566e0114"
      },
      "source": [
        "addedge(0, 1, 3)\n",
        "addedge(0, 2, 6)\n",
        "addedge(0, 3, 5)\n",
        "addedge(1, 4, 9)\n",
        "addedge(1, 5, 8)\n",
        "addedge(2, 6, 12)\n",
        "addedge(2, 7, 14)\n",
        "addedge(3, 8, 7)\n",
        "addedge(8, 9, 5)\n",
        "addedge(8, 10, 6)\n",
        "addedge(9, 11, 1)\n",
        "addedge(9, 12, 10)\n",
        "addedge(9, 13, 2)\n",
        "\n",
        "for elemento in grafo:\n",
        "  print(elemento)"
      ],
      "execution_count": null,
      "outputs": [
        {
          "output_type": "stream",
          "text": [
            "[(1, 3), (2, 6), (3, 5)]\n",
            "[(4, 9), (5, 8)]\n",
            "[(6, 12), (7, 14)]\n",
            "[(8, 7)]\n",
            "[]\n",
            "[]\n",
            "[]\n",
            "[]\n",
            "[(9, 5), (10, 6)]\n",
            "[(11, 1), (12, 10), (13, 2)]\n",
            "[]\n",
            "[]\n",
            "[]\n",
            "[]\n"
          ],
          "name": "stdout"
        }
      ]
    },
    {
      "cell_type": "markdown",
      "metadata": {
        "id": "8rkBeGchNDo7"
      },
      "source": [
        "# Testes da implementação da função BestFS\n"
      ]
    },
    {
      "cell_type": "code",
      "metadata": {
        "id": "Wtw9Mwy6ZPab"
      },
      "source": [
        "def best_first_search(start, end):\n",
        "  visitado = []\n",
        "  visitar = []\n",
        "\n",
        "  visitado.append(start)\n",
        "\n",
        "  for x in grafo[start]:\n",
        "    visitar.append(x)\n",
        "  \n",
        "  Sort_Tuple(visitar)\n",
        "\n",
        "  while visitar[0][0] != end:\n",
        "    visitado.append(visitar[0][0])\n",
        "    for x in grafo[visitar[0][0]]:\n",
        "      visitar.append(x)\n",
        "    visitar.pop(0)\n",
        "    Sort_Tuple(visitar)\n",
        "   \n",
        "  visitado.append(visitar[0][0])\n",
        "\n",
        "  print(visitado)\n"
      ],
      "execution_count": null,
      "outputs": []
    },
    {
      "cell_type": "code",
      "metadata": {
        "id": "HTOtrysoIT6x",
        "colab": {
          "base_uri": "https://localhost:8080/"
        },
        "outputId": "0c261568-91ea-4200-cf50-1597703fba18"
      },
      "source": [
        "best_first_search(0, 9)"
      ],
      "execution_count": null,
      "outputs": [
        {
          "output_type": "stream",
          "text": [
            "[0, 1, 3, 2, 8, 9]\n"
          ],
          "name": "stdout"
        }
      ]
    },
    {
      "cell_type": "code",
      "metadata": {
        "id": "OahYmflYZWwp"
      },
      "source": [
        "pq_visitar = PriorityQueue()\n",
        "#pq_visitar = []\n",
        "visitado = []\n",
        "visitar = []"
      ],
      "execution_count": null,
      "outputs": []
    },
    {
      "cell_type": "code",
      "metadata": {
        "id": "61vfkdZsPFF8"
      },
      "source": [
        "end=5\n",
        "start = 0"
      ],
      "execution_count": null,
      "outputs": []
    },
    {
      "cell_type": "code",
      "metadata": {
        "id": "KgN-NX0OOAXa"
      },
      "source": [
        "visitado.append(start)\n",
        "#pq_visitar.append(grafo[start])\n",
        "#visitado.append(grafo[start])\n",
        "#pq_visitar.put(grafo[start])\n",
        "#value = pq_visitar.get()"
      ],
      "execution_count": null,
      "outputs": []
    },
    {
      "cell_type": "code",
      "metadata": {
        "id": "72q4_av7XYuP"
      },
      "source": [
        "for x in grafo[start]:\n",
        "  visitar.append(x)"
      ],
      "execution_count": null,
      "outputs": []
    },
    {
      "cell_type": "code",
      "metadata": {
        "colab": {
          "base_uri": "https://localhost:8080/"
        },
        "id": "kkwGUV5MTWU9",
        "outputId": "14fc3aab-202c-42f4-d8e6-dd1dd70629f3"
      },
      "source": [
        "Sort_Tuple(visitar)"
      ],
      "execution_count": null,
      "outputs": [
        {
          "output_type": "execute_result",
          "data": {
            "text/plain": [
              "[(1, 3), (3, 5), (2, 6)]"
            ]
          },
          "metadata": {
            "tags": []
          },
          "execution_count": 177
        }
      ]
    },
    {
      "cell_type": "code",
      "metadata": {
        "id": "Uz_BZYPqYhjV"
      },
      "source": [
        "visitado.append(visitar[0][0])"
      ],
      "execution_count": null,
      "outputs": []
    },
    {
      "cell_type": "code",
      "metadata": {
        "id": "10uOu9yYZEyI"
      },
      "source": [
        "for x in grafo[visitar[0][0]]:\n",
        "  visitar.append(x)"
      ],
      "execution_count": null,
      "outputs": []
    },
    {
      "cell_type": "code",
      "metadata": {
        "colab": {
          "base_uri": "https://localhost:8080/"
        },
        "id": "2Et3gLHvZgpH",
        "outputId": "0afd06ca-08c7-44c3-fa5d-07d722269f21"
      },
      "source": [
        "visitar.pop(0)"
      ],
      "execution_count": null,
      "outputs": [
        {
          "output_type": "execute_result",
          "data": {
            "text/plain": [
              "(1, 3)"
            ]
          },
          "metadata": {
            "tags": []
          },
          "execution_count": 154
        }
      ]
    },
    {
      "cell_type": "code",
      "metadata": {
        "colab": {
          "base_uri": "https://localhost:8080/"
        },
        "id": "Vv9HWeeEZMHf",
        "outputId": "89488996-cc02-49e0-ca45-98b69d0632d3"
      },
      "source": [
        "Sort_Tuple(visitar)"
      ],
      "execution_count": null,
      "outputs": [
        {
          "output_type": "execute_result",
          "data": {
            "text/plain": [
              "[(3, 5), (2, 6), (5, 8), (4, 9)]"
            ]
          },
          "metadata": {
            "tags": []
          },
          "execution_count": 155
        }
      ]
    }
  ]
}